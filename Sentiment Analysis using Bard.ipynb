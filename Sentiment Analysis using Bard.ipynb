{
 "cells": [
  {
   "cell_type": "code",
   "execution_count": 1,
   "id": "90e7228d",
   "metadata": {},
   "outputs": [],
   "source": [
    "#install the required libraries\n",
    "#pip install -q google-generativeai"
   ]
  },
  {
   "cell_type": "code",
   "execution_count": 2,
   "id": "3b3a663e",
   "metadata": {},
   "outputs": [],
   "source": [
    "#importing libraries\n",
    "import pprint\n",
    "import google.generativeai as palm"
   ]
  },
  {
   "cell_type": "code",
   "execution_count": 4,
   "id": "56420c06",
   "metadata": {},
   "outputs": [],
   "source": [
    "#add your api key here\n",
    "palm.configure(api_key='YOUR_KEY_HERE')"
   ]
  },
  {
   "cell_type": "code",
   "execution_count": 5,
   "id": "de9d1311",
   "metadata": {
    "scrolled": true
   },
   "outputs": [
    {
     "data": {
      "text/plain": [
       "[Model(name='models/chat-bison-001', base_model_id='', version='001', display_name='Chat Bison', description='Chat-optimized generative language model.', input_token_limit=4096, output_token_limit=1024, supported_generation_methods=['generateMessage', 'countMessageTokens'], temperature=0.25, top_p=0.95, top_k=40),\n",
       " Model(name='models/text-bison-001', base_model_id='', version='001', display_name='Text Bison', description='Model targeted for text generation.', input_token_limit=8196, output_token_limit=1024, supported_generation_methods=['generateText', 'countTextTokens', 'createTunedTextModel'], temperature=0.7, top_p=0.95, top_k=40),\n",
       " Model(name='models/embedding-gecko-001', base_model_id='', version='001', display_name='Embedding Gecko', description='Obtain a distributed representation of a text.', input_token_limit=1024, output_token_limit=1, supported_generation_methods=['embedText'], temperature=None, top_p=None, top_k=None)]"
      ]
     },
     "execution_count": 5,
     "metadata": {},
     "output_type": "execute_result"
    }
   ],
   "source": [
    "#list of models available in PALM API\n",
    "[m for m in palm.list_models() ]"
   ]
  },
  {
   "cell_type": "code",
   "execution_count": 6,
   "id": "bc3894b1",
   "metadata": {},
   "outputs": [],
   "source": [
    "# We are working with Generate Text model only\n",
    "models = [m for m in palm.list_models() if 'generateText' in m.supported_generation_methods]\n",
    "model = models[0].name"
   ]
  },
  {
   "cell_type": "code",
   "execution_count": 9,
   "id": "54c07c9d",
   "metadata": {},
   "outputs": [
    {
     "name": "stdout",
     "output_type": "stream",
     "text": [
      "positive\n"
     ]
    }
   ],
   "source": [
    "#sentiment analysis of a positive prompt\n",
    "prompt =\"Sentiment analysis of - your brain is beautiful!\"\n",
    "completion = palm.generate_text(\n",
    "    model=model,\n",
    "    prompt=prompt,\n",
    "    temperature=1,\n",
    "    max_output_tokens=800,\n",
    ")\n",
    "\n",
    "print(completion.result)"
   ]
  },
  {
   "cell_type": "code",
   "execution_count": 10,
   "id": "5fe4767e",
   "metadata": {},
   "outputs": [
    {
     "name": "stdout",
     "output_type": "stream",
     "text": [
      "None\n"
     ]
    }
   ],
   "source": [
    "#sentiment analysis of a positive prompt\n",
    "prompt =\"Sentiment analysis of - you are so ugly, you make my eyes hurt\"\n",
    "\n",
    "completion = palm.generate_text(\n",
    "    model=model,\n",
    "    prompt=prompt,\n",
    "    temperature=1,\n",
    "    max_output_tokens=800,\n",
    ")\n",
    "\n",
    "print(completion.result)\n"
   ]
  },
  {
   "cell_type": "markdown",
   "id": "782ce045",
   "metadata": {},
   "source": [
    "The output is None because the PALM model is not trained to generate text that is harmful, unethical, or socially inappropriate. The sentence \"semantic of sentence - I will punch you\" is a threat of violence, and the PALM model is not able to generate a response that is safe and appropriate."
   ]
  }
 ],
 "metadata": {
  "kernelspec": {
   "display_name": "Python 3 (ipykernel)",
   "language": "python",
   "name": "python3"
  },
  "language_info": {
   "codemirror_mode": {
    "name": "ipython",
    "version": 3
   },
   "file_extension": ".py",
   "mimetype": "text/x-python",
   "name": "python",
   "nbconvert_exporter": "python",
   "pygments_lexer": "ipython3",
   "version": "3.11.4"
  }
 },
 "nbformat": 4,
 "nbformat_minor": 5
}

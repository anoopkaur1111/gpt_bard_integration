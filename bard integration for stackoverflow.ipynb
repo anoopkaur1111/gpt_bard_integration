{
 "cells": [
  {
   "cell_type": "code",
   "execution_count": 1,
   "id": "985a5d52",
   "metadata": {},
   "outputs": [],
   "source": [
    "#install the required libraries\n",
    "#pip install -q google-generativeai"
   ]
  },
  {
   "cell_type": "code",
   "execution_count": 2,
   "id": "21e40275",
   "metadata": {},
   "outputs": [],
   "source": [
    "#importing libraries\n",
    "import pprint\n",
    "import google.generativeai as pa\n",
    "prompt =\"Answer the following Stack Overflow question -lm"
   ]
  },
  {
   "cell_type": "code",
   "execution_count": 3,
   "id": "ce13f5f7",
   "metadata": {},
   "outputs": [],
   "source": [
    "#add your api key here\n",
    "palm.configure(api_key='YOUR_KEY_HERE')"
   ]
  },
  {
   "cell_type": "code",
   "execution_count": 12,
   "id": "a2dc8444",
   "metadata": {
    "scrolled": true
   },
   "outputs": [
    {
     "data": {
      "text/plain": [
       "[Model(name='models/chat-bison-001', base_model_id='', version='001', display_name='Chat Bison', description='Chat-optimized generative language model.', input_token_limit=4096, output_token_limit=1024, supported_generation_methods=['generateMessage', 'countMessageTokens'], temperature=0.25, top_p=0.95, top_k=40),\n",
       " Model(name='models/text-bison-001', base_model_id='', version='001', display_name='Text Bison', description='Model targeted for text generation.', input_token_limit=8196, output_token_limit=1024, supported_generation_methods=['generateText', 'countTextTokens', 'createTunedTextModel'], temperature=0.7, top_p=0.95, top_k=40),\n",
       " Model(name='models/embedding-gecko-001', base_model_id='', version='001', display_name='Embedding Gecko', description='Obtain a distributed representation of a text.', input_token_limit=1024, output_token_limit=1, supported_generation_methods=['embedText'], temperature=None, top_p=None, top_k=None)]"
      ]
     },
     "execution_count": 12,
     "metadata": {},
     "output_type": "execute_result"
    }
   ],
   "source": [
    "#list of models available in PALM API\n",
    "[m for m in palm.list_models() ]"
   ]
  },
  {
   "cell_type": "code",
   "execution_count": 22,
   "id": "d5ff9edc",
   "metadata": {},
   "outputs": [],
   "source": [
    "# We are working with Generate Text model only\n",
    "models = [m for m in palm.list_models() if 'generateText' in m.supported_generation_methods]\n",
    "model = models[0].name"
   ]
  },
  {
   "cell_type": "code",
   "execution_count": 39,
   "id": "8e0e9171",
   "metadata": {
    "scrolled": true
   },
   "outputs": [
    {
     "name": "stdout",
     "output_type": "stream",
     "text": [
      "```\n",
      "import yfinance as yf\n",
      "\n",
      "data = yf.download('AAPL', start='2022-01-01', end='2022-03-01')\n",
      "\n",
      "print(data)\n",
      "```\n",
      "\n",
      "```\n",
      "Output:\n",
      "   Open   High   Low  Close  Volume  Dividends  Stock Splits\n",
      "Date\n",
      "2022-01-03 164.84 165.62 164.00 165.25  24100000      0.00        0\n",
      "2022-01-04 165.25 165.75 164.50 165.50  20100000      0.00        0\n",
      "2022-01-05 165.50 166.00 164.75 165.75  19000000      0.00        0\n",
      "2022-01-06 165.75 166.25 165.00 166.00  17500000      0.00        0\n",
      "2022-01-07 166.00 166.50 165.50 166.25  16500000      0.00        0\n",
      "...\n",
      "```\n"
     ]
    }
   ],
   "source": [
    "#add your prompt here\n",
    "prompt =\"Answer the following question from stack overflow - yahoo finance api .get_historical() not working\"\n",
    "# setting temperature 0 here as we need factual answer, if the prompt is regarding some creative subject, this can be increased\n",
    "# to 0.5 or 0.75 depending on the case.\n",
    "completion = palm.generate_text(\n",
    "    model=model,\n",
    "    prompt=prompt,\n",
    "    temperature=0,\n",
    "    max_output_tokens=800,\n",
    ")\n",
    "\n",
    "print(completion.result)\n",
    "\n"
   ]
  },
  {
   "cell_type": "code",
   "execution_count": 40,
   "id": "63b60e3c",
   "metadata": {
    "scrolled": true
   },
   "outputs": [
    {
     "name": "stdout",
     "output_type": "stream",
     "text": [
      "* **Comment 1:**\n",
      "\n",
      "```\n",
      "Try using the `pandas_datareader` library instead. It's much easier to use and has a wider range of features.\n",
      "```\n",
      "\n",
      "* **Comment 2:**\n",
      "\n",
      "```\n",
      "I had the same problem. I found that the `.get_historical()` method only works for stocks that are listed on the NYSE or NASDAQ. If you're trying to get historical data for a stock that's listed on another exchange, you'll need to use the `.get_data()` method.\n",
      "```\n",
      "\n",
      "* **Comment 3:**\n",
      "\n",
      "```\n",
      "You can also try using the `yfinance` library. It's a wrapper around the Yahoo Finance API that makes it easier to use.\n",
      "```\n",
      "\n",
      "* **Comment 4:**\n",
      "\n",
      "```\n",
      "I had the same problem. I found that the `.get_historical()` method only works for stocks that are listed on the NYSE or NASDAQ. If you're trying to get historical data for a stock that's listed on another exchange, you'll need to use the `.get_data()` method. Here's an example of how to use the `.get_data()` method to get historical data for a stock that's listed on the London Stock Exchange:\n",
      "\n",
      "```python\n",
      "import yfinance as yf\n",
      "\n",
      "# Get the historical data for the stock \"TSLA\"\n",
      "data = yf.download(\"TSLA\", start=\"2022-01-01\", end=\"2022-12-31\")\n",
      "\n",
      "# Print the data\n",
      "print(data)\n",
      "```\n",
      "\n",
      "* **Comment 5:**\n",
      "\n",
      "```\n",
      "I had the same problem. I found that the `.get_historical()` method only works for stocks that are listed on the NYSE or NASDAQ. If you're trying to get historical data for a stock that's listed on another exchange, you'll need to use the `.get_data()` method. Here's an example of how to use the `.get_data()` method to get historical data for a stock that's listed on the London Stock Exchange:\n",
      "\n",
      "```python\n",
      "import yfinance as yf\n",
      "\n",
      "# Get the historical data for the stock \"TSLA\"\n",
      "data = yf.download(\"TSLA\", start=\"2022-01-01\", end=\"2022-12-31\")\n",
      "\n",
      "# Print the data\n",
      "print(data)\n",
      "```\n"
     ]
    }
   ],
   "source": [
    "prompt =\"what were the comments in this stackoverflow response - yahoo finance api .get_historical() not working\"\n",
    "completion = palm.generate_text(\n",
    "    model=model,\n",
    "    prompt=prompt,\n",
    "    temperature=0,\n",
    "    max_output_tokens=800,\n",
    ")\n",
    "\n",
    "print(completion.result)"
   ]
  },
  {
   "cell_type": "code",
   "execution_count": 34,
   "id": "ddc3cb92",
   "metadata": {},
   "outputs": [
    {
     "name": "stdout",
     "output_type": "stream",
     "text": [
      "```python\n",
      "import pyspark\n",
      "from pyspark.sql import SparkSession\n",
      "from pyspark.sql.types import *\n",
      "\n",
      "# Create a Spark session\n",
      "spark = SparkSession.builder.appName(\"PySpark to Pandas\").getOrCreate()\n",
      "\n",
      "# Read a CSV file into a Spark DataFrame\n",
      "df = spark.read.csv(\"data.csv\", header=True)\n",
      "\n",
      "# Convert the Spark DataFrame to a Pandas DataFrame\n",
      "df_pandas = df.toPandas()\n",
      "\n",
      "# Print the data types of the columns in the Pandas DataFrame\n",
      "print(df_pandas.dtypes)\n",
      "\n",
      "# Change the data types of the columns in the Pandas DataFrame\n",
      "df_pandas[\"col1\"] = df_pandas[\"col1\"].astype(str)\n",
      "df_pandas[\"col2\"] = df_pandas[\"col2\"].astype(int)\n",
      "df_pandas[\"col3\"] = df_pandas[\"col3\"].astype(float)\n",
      "\n",
      "# Print the data types of the columns in the Pandas DataFrame again\n",
      "print(df_pandas.dtypes)\n",
      "```\n"
     ]
    }
   ],
   "source": [
    "#add your prompt here\n",
    "prompt =\"Answer the following question from stack overflow - pyspark to pandas by taking care of data types\"\n",
    "# setting temperature 0 here as we need factual answer, if the prompt is regarding some creative subject, this can be increased\n",
    "# to 0.5 or 0.75 depending on the case.\n",
    "completion = palm.generate_text(\n",
    "    model=model,\n",
    "    prompt=prompt,\n",
    "    temperature=0,\n",
    "    max_output_tokens=800,\n",
    ")\n",
    "\n",
    "print(completion.result)"
   ]
  },
  {
   "cell_type": "markdown",
   "id": "c85a394f",
   "metadata": {},
   "source": [
    "### Same can be performed using OpenAI"
   ]
  },
  {
   "cell_type": "code",
   "execution_count": 6,
   "id": "46cb46a1",
   "metadata": {},
   "outputs": [],
   "source": [
    "#installing required library\n",
    "#pip install openai"
   ]
  },
  {
   "cell_type": "code",
   "execution_count": 7,
   "id": "4fd072fc",
   "metadata": {},
   "outputs": [],
   "source": [
    "#importing library\n",
    "import openai"
   ]
  },
  {
   "cell_type": "code",
   "execution_count": 8,
   "id": "e5a721ba",
   "metadata": {},
   "outputs": [],
   "source": [
    "#add your api key here\n",
    "openai.api_key=\"YOUR KEY HERE\""
   ]
  },
  {
   "cell_type": "code",
   "execution_count": null,
   "id": "45fe3a73",
   "metadata": {},
   "outputs": [],
   "source": [
    "# engine to be used for generating the response and max token value\n",
    "engine = \"text-davinci-002\" \n",
    "max_tokens = 50 \n",
    "openai.Completion.create(engine=engine,\n",
    "        prompt=\"Answer the following Stack Overflow question - Yahoo Finance API .get_historical() not working python\",\n",
    "                         max_tokens=max_tokens)\n"
   ]
  },
  {
   "cell_type": "code",
   "execution_count": null,
   "id": "8e7cf1f4",
   "metadata": {},
   "outputs": [],
   "source": []
  },
  {
   "cell_type": "code",
   "execution_count": null,
   "id": "b813e89f",
   "metadata": {},
   "outputs": [],
   "source": []
  },
  {
   "cell_type": "code",
   "execution_count": null,
   "id": "99ebf25f",
   "metadata": {},
   "outputs": [],
   "source": []
  },
  {
   "cell_type": "code",
   "execution_count": null,
   "id": "f6292212",
   "metadata": {},
   "outputs": [],
   "source": []
  },
  {
   "cell_type": "code",
   "execution_count": null,
   "id": "66ce9fa0",
   "metadata": {},
   "outputs": [],
   "source": []
  }
 ],
 "metadata": {
  "kernelspec": {
   "display_name": "Python 3 (ipykernel)",
   "language": "python",
   "name": "python3"
  },
  "language_info": {
   "codemirror_mode": {
    "name": "ipython",
    "version": 3
   },
   "file_extension": ".py",
   "mimetype": "text/x-python",
   "name": "python",
   "nbconvert_exporter": "python",
   "pygments_lexer": "ipython3",
   "version": "3.11.4"
  }
 },
 "nbformat": 4,
 "nbformat_minor": 5
}
